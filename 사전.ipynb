{
  "nbformat": 4,
  "nbformat_minor": 0,
  "metadata": {
    "colab": {
      "name": "사전.ipynb",
      "provenance": [],
      "collapsed_sections": []
    },
    "kernelspec": {
      "name": "python3",
      "display_name": "Python 3"
    },
    "language_info": {
      "name": "python"
    }
  },
  "cells": [
    {
      "cell_type": "code",
      "execution_count": null,
      "metadata": {
        "id": "cKIZ0r43Y7ZD"
      },
      "outputs": [],
      "source": [
        "def binary_search(array, target, start, end):\n",
        "    if start > end:\n",
        "        return end\n",
        "\n",
        "    mid = (start + end) // 2\n",
        "\n",
        "    if array[mid] == target:\n",
        "        return mid\n",
        "\n",
        "    elif array[mid] > target:\n",
        "        return binary_search(array, target, start, mid - 1)\n",
        "    else:\n",
        "        return binary_search(array, target, mid + 1, end)\n",
        "\n",
        "\n",
        "n, target = map(int, input().split())\n",
        "array = list(map(int, input().split()))\n",
        "\n",
        "result = binary_search(array, target, 0, n - 1)\n",
        "\n",
        "print(\"\", end = \" \")\n",
        "print(result)\n",
        "\n",
        "# Type or paste your code in this area"
      ]
    }
  ]
}