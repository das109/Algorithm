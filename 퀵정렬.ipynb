{
  "nbformat": 4,
  "nbformat_minor": 0,
  "metadata": {
    "colab": {
      "name": "퀵정렬.ipynb",
      "provenance": [],
      "collapsed_sections": []
    },
    "kernelspec": {
      "name": "python3",
      "display_name": "Python 3"
    },
    "language_info": {
      "name": "python"
    }
  },
  "cells": [
    {
      "cell_type": "code",
      "execution_count": null,
      "metadata": {
        "id": "cKIZ0r43Y7ZD"
      },
      "outputs": [],
      "source": [
        "import random\n",
        "\n",
        "def quicksort(arr, start , end):\n",
        "    if(start < end):\n",
        "\n",
        "        pivotindex = partitionrand(arr,start, end)\n",
        "\n",
        "        quicksort(arr , start , pivotindex-1)\n",
        "        quicksort(arr, pivotindex + 1, end)\n",
        " \n",
        "def MakePivot(start, end):\n",
        "    al_list=[]                              \n",
        "    for i in range(3):\n",
        "      a = random.randint(start, end)\n",
        "      al_list.append(a)\n",
        "    pivot = al_list[1]\n",
        "    return pivot\n",
        "\n",
        "def partitionrand(arr , start, end):\n",
        "    randpivot = MakePivot(start, end)\n",
        "    arr[start], arr[randpivot] = arr[randpivot], arr[start]\n",
        "\n",
        "    return partition(arr, start, end)\n",
        " \n",
        "def partition(arr, start, end):\n",
        "    pivot = start \n",
        "     \n",
        "    i = start + 1\n",
        "     \n",
        "    for j in range(start + 1, end + 1):\n",
        "         \n",
        "        if arr[j] <= arr[pivot]:\n",
        "            arr[i] , arr[j] = arr[j] , arr[i]\n",
        "            i = i + 1\n",
        "    arr[pivot] , arr[i - 1] = arr[i - 1] , arr[pivot]\n",
        "    pivot = i - 1\n",
        "    return pivot\n",
        " \n",
        "n = int(input())\n",
        "arr = [int(i) for i in input().split()]\n",
        "\n",
        "quicksort(arr, 0, len(arr) - 1)\n",
        "\n",
        "print(\"\", end = \" \")\n",
        "for i in range(len(arr)):\n",
        "  print(arr[i], end = \" \")# Type or paste your code in this area\n",
        "  \n",
        "  # Type or paste your code in this area"
      ]
    }
  ]
}