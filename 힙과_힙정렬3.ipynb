{
  "nbformat": 4,
  "nbformat_minor": 0,
  "metadata": {
    "colab": {
      "name": "힙과 힙정렬3.ipynb",
      "provenance": [],
      "collapsed_sections": []
    },
    "kernelspec": {
      "name": "python3",
      "display_name": "Python 3"
    },
    "language_info": {
      "name": "python"
    }
  },
  "cells": [
    {
      "cell_type": "code",
      "execution_count": null,
      "metadata": {
        "id": "cKIZ0r43Y7ZD"
      },
      "outputs": [],
      "source": [
        "class Heap:\n",
        "  def __init__(self, keys):\n",
        "    self.array = [0]+keys\n",
        "\n",
        "\n",
        "\n",
        "  def downHeap(self, i, last):\n",
        "    left = 2*i\n",
        "    right = 2*i+1\n",
        "\n",
        "    if (left > last):\n",
        "      return\n",
        "    greater = left\n",
        "\n",
        "    if right <= last:\n",
        "      if self.array[right] > self.array[greater]:\n",
        "        greater = right\n",
        "\n",
        "    if self.array[i] >= self.array[greater]:\n",
        "        return\n",
        "\n",
        "    temp1 = self.array[i]\n",
        "    temp2 = self.array[greater]\n",
        "    self.array[i] = temp2\n",
        "    self.array[greater] = temp1\n",
        "    self.downHeap(greater, last)\n",
        "\n",
        "\n",
        "  def sortHeap(self):\n",
        "    for i in range((len(self.array)-1), 0, -1):\n",
        "      temp1 = self.array[1]\n",
        "      temp2 = self.array[i]\n",
        "      self.array[1] = temp2\n",
        "      self.array[i] = temp1\n",
        "      self.downHeap(1, i-1)\n",
        "    return\n",
        "\n",
        "\n",
        "  def bHeap(self):\n",
        "    for i in range((len(self.array)-1)//2, 0, -1):\n",
        "      self.downHeap(i, len(self.array)-1)\n",
        "    return \n",
        "\n",
        "\n",
        "  def pr(self):\n",
        "    print(\"\", end = \" \")\n",
        "    for data in self.array[1:]:\n",
        "      print(data, end = \" \")\n",
        "    print()\n",
        "\n",
        "\n",
        "  def main(self):\n",
        "    self.bHeap()\n",
        "    self.sortHeap()\n",
        "    self.pr()\n",
        "\n",
        "\n",
        "n = int(input())\n",
        "k = [int(i) for i in input().split()]\n",
        "\n",
        "\n",
        "Heap = Heap(k)\n",
        "Heap.main()\n",
        "\n",
        "# Type or paste your code in this area"
      ]
    }
  ]
}