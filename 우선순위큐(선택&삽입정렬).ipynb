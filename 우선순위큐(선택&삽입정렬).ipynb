{
  "nbformat": 4,
  "nbformat_minor": 0,
  "metadata": {
    "colab": {
      "name": "우선순위큐(선택&삽입정렬).ipynb",
      "provenance": []
    },
    "kernelspec": {
      "name": "python3",
      "display_name": "Python 3"
    },
    "language_info": {
      "name": "python"
    }
  },
  "cells": [
    {
      "cell_type": "code",
      "execution_count": null,
      "metadata": {
        "id": "cKIZ0r43Y7ZD"
      },
      "outputs": [],
      "source": [
        "n = int(input())\n",
        "li = list(input().split())\n",
        "\n",
        "for i in range(0, n):\n",
        "  li[i] = int(li[i])\n",
        "\n",
        "\n",
        "max = li[0]\n",
        "for i in range(len(li)-1, 0, -1):\n",
        "  max = i\n",
        "  for j in range(i-1, -1, -1):\n",
        "    if (li[j] > li[max]):\n",
        "        max = j\n",
        "\n",
        "  tmp1 = li[max]\n",
        "  tmp2 = li[i]\n",
        "  li[max] = tmp2\n",
        "  li[i] = tmp1\n",
        "\n",
        "\n",
        "print(' ', end='')\n",
        "for i in range(0, n): \n",
        "  print(li[i], end=' ')\n",
        "  \n",
        "  # Type or paste your code in this area"
      ]
    }
  ]
}