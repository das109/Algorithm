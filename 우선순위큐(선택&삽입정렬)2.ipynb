{
  "nbformat": 4,
  "nbformat_minor": 0,
  "metadata": {
    "colab": {
      "name": "우선순위큐(선택&삽입정렬)2.ipynb",
      "provenance": [],
      "collapsed_sections": []
    },
    "kernelspec": {
      "name": "python3",
      "display_name": "Python 3"
    },
    "language_info": {
      "name": "python"
    }
  },
  "cells": [
    {
      "cell_type": "code",
      "execution_count": null,
      "metadata": {
        "id": "cKIZ0r43Y7ZD"
      },
      "outputs": [],
      "source": [
        "n = int(input())\n",
        "li = list(map(int,input().split()))\n",
        "\n",
        "for i in range(1, len(li)):\n",
        "  tmp = li[i]\n",
        "  j = i\n",
        "  while (j > 0 and li[j-1] > tmp):\n",
        "    li[j] = li[j-1]\n",
        "    j -= 1\n",
        "  li[j] = tmp\n",
        "\n",
        "\n",
        "\n",
        "print(' ', end='')\n",
        "for i in range(0, n): \n",
        "  print(li[i], end=' ')\n",
        "  \n",
        "  # Type or paste your code in this area"
      ]
    }
  ]
}